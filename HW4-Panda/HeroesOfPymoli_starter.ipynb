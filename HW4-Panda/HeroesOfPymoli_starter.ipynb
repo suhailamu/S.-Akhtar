{
 "cells": [
  {
   "cell_type": "markdown",
   "metadata": {},
   "source": [
    "### Heroes Of Pymoli Data Analysis\n",
    "* Of the 1163 active players, the vast majority are male (84%). There also exists, a smaller, but notable proportion of female players (14%).\n",
    "\n",
    "* Our peak age demographic falls between 20-24 (44.8%) with secondary groups falling between 15-19 (18.60%) and 25-29 (13.4%).  \n",
    "-----"
   ]
  },
  {
   "cell_type": "markdown",
   "metadata": {},
   "source": [
    "### Note\n",
    "* Instructions have been included for each segment. You do not have to follow them exactly, but they are included to help you think through the steps."
   ]
  },
  {
   "cell_type": "code",
   "execution_count": 1,
   "metadata": {},
   "outputs": [],
   "source": [
    "# Dependencies and Setup\n",
    "import pandas as pd\n",
    "import numpy as np\n",
    "\n",
    "# File to Load (Remember to Change These)\n",
    "file_to_load = \"Resources/purchase_data.csv\"\n",
    "\n",
    "# Read Purchasing File and store into Pandas data frame\n",
    "p_data = pd.read_csv(file_to_load)"
   ]
  },
  {
   "cell_type": "markdown",
   "metadata": {},
   "source": [
    "## Player Count"
   ]
  },
  {
   "cell_type": "markdown",
   "metadata": {},
   "source": [
    "* Display the total number of players\n"
   ]
  },
  {
   "cell_type": "code",
   "execution_count": 2,
   "metadata": {},
   "outputs": [
    {
     "data": {
      "text/html": [
       "<div>\n",
       "<style scoped>\n",
       "    .dataframe tbody tr th:only-of-type {\n",
       "        vertical-align: middle;\n",
       "    }\n",
       "\n",
       "    .dataframe tbody tr th {\n",
       "        vertical-align: top;\n",
       "    }\n",
       "\n",
       "    .dataframe thead th {\n",
       "        text-align: right;\n",
       "    }\n",
       "</style>\n",
       "<table border=\"1\" class=\"dataframe\">\n",
       "  <thead>\n",
       "    <tr style=\"text-align: right;\">\n",
       "      <th></th>\n",
       "      <th>Total Players</th>\n",
       "    </tr>\n",
       "  </thead>\n",
       "  <tbody>\n",
       "    <tr>\n",
       "      <th>0</th>\n",
       "      <td>576</td>\n",
       "    </tr>\n",
       "  </tbody>\n",
       "</table>\n",
       "</div>"
      ],
      "text/plain": [
       "   Total Players\n",
       "0            576"
      ]
     },
     "execution_count": 2,
     "metadata": {},
     "output_type": "execute_result"
    }
   ],
   "source": [
    "players = len(p_data['SN'].unique())\n",
    "players_df = pd.DataFrame([{'Total Players': players}])\n",
    "\n",
    "players_df"
   ]
  },
  {
   "cell_type": "markdown",
   "metadata": {},
   "source": [
    "## Purchasing Analysis (Total)"
   ]
  },
  {
   "cell_type": "markdown",
   "metadata": {},
   "source": [
    "* Run basic calculations to obtain number of unique items, average price, etc.\n",
    "\n",
    "\n",
    "* Create a summary data frame to hold the results\n",
    "\n",
    "\n",
    "* Optional: give the displayed data cleaner formatting\n",
    "\n",
    "\n",
    "* Display the summary data frame\n"
   ]
  },
  {
   "cell_type": "code",
   "execution_count": 3,
   "metadata": {},
   "outputs": [],
   "source": [
    "#Number of Unique Items\n",
    "remove_duplicates = p_data.drop_duplicates(['Item ID'], keep = 'last')"
   ]
  },
  {
   "cell_type": "code",
   "execution_count": 4,
   "metadata": {},
   "outputs": [
    {
     "data": {
      "text/html": [
       "<div>\n",
       "<style scoped>\n",
       "    .dataframe tbody tr th:only-of-type {\n",
       "        vertical-align: middle;\n",
       "    }\n",
       "\n",
       "    .dataframe tbody tr th {\n",
       "        vertical-align: top;\n",
       "    }\n",
       "\n",
       "    .dataframe thead th {\n",
       "        text-align: right;\n",
       "    }\n",
       "</style>\n",
       "<table border=\"1\" class=\"dataframe\">\n",
       "  <thead>\n",
       "    <tr style=\"text-align: right;\">\n",
       "      <th></th>\n",
       "      <th>Total Items</th>\n",
       "    </tr>\n",
       "  </thead>\n",
       "  <tbody>\n",
       "    <tr>\n",
       "      <th>0</th>\n",
       "      <td>183</td>\n",
       "    </tr>\n",
       "  </tbody>\n",
       "</table>\n",
       "</div>"
      ],
      "text/plain": [
       "   Total Items\n",
       "0          183"
      ]
     },
     "execution_count": 4,
     "metadata": {},
     "output_type": "execute_result"
    }
   ],
   "source": [
    "total_items = len(remove_duplicates)\n",
    "total_items_df = pd.DataFrame([{'Total Items': total_items}])\n",
    "\n",
    "total_items_df"
   ]
  },
  {
   "cell_type": "code",
   "execution_count": 5,
   "metadata": {},
   "outputs": [
    {
     "data": {
      "text/html": [
       "<div>\n",
       "<style scoped>\n",
       "    .dataframe tbody tr th:only-of-type {\n",
       "        vertical-align: middle;\n",
       "    }\n",
       "\n",
       "    .dataframe tbody tr th {\n",
       "        vertical-align: top;\n",
       "    }\n",
       "\n",
       "    .dataframe thead th {\n",
       "        text-align: right;\n",
       "    }\n",
       "</style>\n",
       "<table border=\"1\" class=\"dataframe\">\n",
       "  <thead>\n",
       "    <tr style=\"text-align: right;\">\n",
       "      <th></th>\n",
       "      <th>Price</th>\n",
       "    </tr>\n",
       "  </thead>\n",
       "  <tbody>\n",
       "    <tr>\n",
       "      <th>0</th>\n",
       "      <td>3.05</td>\n",
       "    </tr>\n",
       "  </tbody>\n",
       "</table>\n",
       "</div>"
      ],
      "text/plain": [
       "   Price\n",
       "0   3.05"
      ]
     },
     "execution_count": 5,
     "metadata": {},
     "output_type": "execute_result"
    }
   ],
   "source": [
    "#Average Purchase Price\n",
    "average_p_price = (p_data['Price'].sum()/p_data['Price'].count()).round(2)\n",
    "average_p_price_df = pd.DataFrame([{'Price': average_p_price}])\n",
    "\n",
    "average_p_price_df"
   ]
  },
  {
   "cell_type": "code",
   "execution_count": 6,
   "metadata": {},
   "outputs": [
    {
     "data": {
      "text/html": [
       "<div>\n",
       "<style scoped>\n",
       "    .dataframe tbody tr th:only-of-type {\n",
       "        vertical-align: middle;\n",
       "    }\n",
       "\n",
       "    .dataframe tbody tr th {\n",
       "        vertical-align: top;\n",
       "    }\n",
       "\n",
       "    .dataframe thead th {\n",
       "        text-align: right;\n",
       "    }\n",
       "</style>\n",
       "<table border=\"1\" class=\"dataframe\">\n",
       "  <thead>\n",
       "    <tr style=\"text-align: right;\">\n",
       "      <th></th>\n",
       "      <th>Total Purchases</th>\n",
       "    </tr>\n",
       "  </thead>\n",
       "  <tbody>\n",
       "    <tr>\n",
       "      <th>0</th>\n",
       "      <td>780</td>\n",
       "    </tr>\n",
       "  </tbody>\n",
       "</table>\n",
       "</div>"
      ],
      "text/plain": [
       "   Total Purchases\n",
       "0              780"
      ]
     },
     "execution_count": 6,
     "metadata": {},
     "output_type": "execute_result"
    }
   ],
   "source": [
    "#Total Number of Purchases\n",
    "total_purchases = p_data['Price'].count()\n",
    "total_purchases_df = pd.DataFrame([{'Total Purchases': total_purchases}])\n",
    "total_purchases_df"
   ]
  },
  {
   "cell_type": "code",
   "execution_count": 7,
   "metadata": {},
   "outputs": [
    {
     "data": {
      "text/html": [
       "<div>\n",
       "<style scoped>\n",
       "    .dataframe tbody tr th:only-of-type {\n",
       "        vertical-align: middle;\n",
       "    }\n",
       "\n",
       "    .dataframe tbody tr th {\n",
       "        vertical-align: top;\n",
       "    }\n",
       "\n",
       "    .dataframe thead th {\n",
       "        text-align: right;\n",
       "    }\n",
       "</style>\n",
       "<table border=\"1\" class=\"dataframe\">\n",
       "  <thead>\n",
       "    <tr style=\"text-align: right;\">\n",
       "      <th></th>\n",
       "      <th>Total Revenue</th>\n",
       "    </tr>\n",
       "  </thead>\n",
       "  <tbody>\n",
       "    <tr>\n",
       "      <th>0</th>\n",
       "      <td>2379.77</td>\n",
       "    </tr>\n",
       "  </tbody>\n",
       "</table>\n",
       "</div>"
      ],
      "text/plain": [
       "   Total Revenue\n",
       "0        2379.77"
      ]
     },
     "execution_count": 7,
     "metadata": {},
     "output_type": "execute_result"
    }
   ],
   "source": [
    "#Total Revenue\n",
    "total_revenue = p_data['Price'].sum()\n",
    "total_revenue_df = pd.DataFrame([{'Total Revenue': total_revenue}])\n",
    "total_revenue_df"
   ]
  },
  {
   "cell_type": "code",
   "execution_count": 8,
   "metadata": {
    "scrolled": true
   },
   "outputs": [
    {
     "data": {
      "text/html": [
       "<div>\n",
       "<style scoped>\n",
       "    .dataframe tbody tr th:only-of-type {\n",
       "        vertical-align: middle;\n",
       "    }\n",
       "\n",
       "    .dataframe tbody tr th {\n",
       "        vertical-align: top;\n",
       "    }\n",
       "\n",
       "    .dataframe thead th {\n",
       "        text-align: right;\n",
       "    }\n",
       "</style>\n",
       "<table border=\"1\" class=\"dataframe\">\n",
       "  <thead>\n",
       "    <tr style=\"text-align: right;\">\n",
       "      <th></th>\n",
       "      <th>Average Purchase Price</th>\n",
       "      <th>Number of Unique Items</th>\n",
       "      <th>Total Purchases</th>\n",
       "      <th>Total Revenue</th>\n",
       "    </tr>\n",
       "  </thead>\n",
       "  <tbody>\n",
       "    <tr>\n",
       "      <th>0</th>\n",
       "      <td>3.05</td>\n",
       "      <td>183</td>\n",
       "      <td>780</td>\n",
       "      <td>2379.77</td>\n",
       "    </tr>\n",
       "  </tbody>\n",
       "</table>\n",
       "</div>"
      ],
      "text/plain": [
       "   Average Purchase Price  Number of Unique Items  Total Purchases  \\\n",
       "0                    3.05                     183              780   \n",
       "\n",
       "   Total Revenue  \n",
       "0        2379.77  "
      ]
     },
     "execution_count": 8,
     "metadata": {},
     "output_type": "execute_result"
    }
   ],
   "source": [
    "p_analysis_df = pd.DataFrame([{\n",
    "    \n",
    "    'Number of Unique Items': total_items,\n",
    "    'Average Purchase Price': average_p_price,\n",
    "    'Total Purchases': total_purchases,\n",
    "    'Total Revenue': total_revenue\n",
    "}])\n",
    "p_analysis_df"
   ]
  },
  {
   "cell_type": "markdown",
   "metadata": {},
   "source": [
    "## Gender Demographics"
   ]
  },
  {
   "cell_type": "markdown",
   "metadata": {},
   "source": [
    "* Percentage and Count of Male Players\n",
    "\n",
    "\n",
    "* Percentage and Count of Female Players\n",
    "\n",
    "\n",
    "* Percentage and Count of Other / Non-Disclosed\n",
    "\n",
    "\n"
   ]
  },
  {
   "cell_type": "code",
   "execution_count": 9,
   "metadata": {},
   "outputs": [
    {
     "data": {
      "text/html": [
       "<div>\n",
       "<style scoped>\n",
       "    .dataframe tbody tr th:only-of-type {\n",
       "        vertical-align: middle;\n",
       "    }\n",
       "\n",
       "    .dataframe tbody tr th {\n",
       "        vertical-align: top;\n",
       "    }\n",
       "\n",
       "    .dataframe thead th {\n",
       "        text-align: right;\n",
       "    }\n",
       "</style>\n",
       "<table border=\"1\" class=\"dataframe\">\n",
       "  <thead>\n",
       "    <tr style=\"text-align: right;\">\n",
       "      <th></th>\n",
       "      <th>Gender</th>\n",
       "      <th>Percentage of Players</th>\n",
       "      <th>Total Count</th>\n",
       "    </tr>\n",
       "  </thead>\n",
       "  <tbody>\n",
       "    <tr>\n",
       "      <th>0</th>\n",
       "      <td>Male</td>\n",
       "      <td>84.027778</td>\n",
       "      <td>484</td>\n",
       "    </tr>\n",
       "    <tr>\n",
       "      <th>1</th>\n",
       "      <td>Female</td>\n",
       "      <td>14.062500</td>\n",
       "      <td>81</td>\n",
       "    </tr>\n",
       "    <tr>\n",
       "      <th>2</th>\n",
       "      <td>Other / Non-Disclosed</td>\n",
       "      <td>1.909722</td>\n",
       "      <td>11</td>\n",
       "    </tr>\n",
       "  </tbody>\n",
       "</table>\n",
       "</div>"
      ],
      "text/plain": [
       "                  Gender  Percentage of Players  Total Count\n",
       "0                   Male              84.027778          484\n",
       "1                 Female              14.062500           81\n",
       "2  Other / Non-Disclosed               1.909722           11"
      ]
     },
     "execution_count": 9,
     "metadata": {},
     "output_type": "execute_result"
    }
   ],
   "source": [
    "#total players = players\n",
    "\n",
    "# Percentage and Count of Male Players\n",
    "male_players = p_data[p_data[\"Gender\"] == \"Male\"][\"SN\"].nunique()\n",
    "m_percent = ((male_players/players)*100)\n",
    "# Percentage and Count of Female Players\n",
    "female_players = p_data[p_data[\"Gender\"] == \"Female\"][\"SN\"].nunique()\n",
    "f_percent = ((female_players/players)*100)\n",
    "#Percentage and Count of Other / Non-Disclosed\n",
    "other_players = p_data[p_data[\"Gender\"] == \"Other / Non-Disclosed\"][\"SN\"].nunique()\n",
    "o_percent = ((other_players/players)*100)\n",
    "# Gender Demographics\n",
    "gender_df = pd.DataFrame({\"Gender\": [\"Male\", \"Female\", \"Other / Non-Disclosed\"], \"Percentage of Players\": [m_percent, f_percent, o_percent],\"Total Count\": [male_players, female_players, other_players]})\n",
    "gender_df"
   ]
  },
  {
   "cell_type": "markdown",
   "metadata": {},
   "source": [
    "\n",
    "## Purchasing Analysis (Gender)"
   ]
  },
  {
   "cell_type": "markdown",
   "metadata": {},
   "source": [
    "* Run basic calculations to obtain purchase count, avg. purchase price, avg. purchase total per person etc. by gender\n",
    "\n",
    "\n",
    "\n",
    "\n",
    "* Create a summary data frame to hold the results\n",
    "\n",
    "\n",
    "* Optional: give the displayed data cleaner formatting\n",
    "\n",
    "\n",
    "* Display the summary data frame"
   ]
  },
  {
   "cell_type": "code",
   "execution_count": 10,
   "metadata": {},
   "outputs": [
    {
     "data": {
      "text/html": [
       "<div>\n",
       "<style scoped>\n",
       "    .dataframe tbody tr th:only-of-type {\n",
       "        vertical-align: middle;\n",
       "    }\n",
       "\n",
       "    .dataframe tbody tr th {\n",
       "        vertical-align: top;\n",
       "    }\n",
       "\n",
       "    .dataframe thead th {\n",
       "        text-align: right;\n",
       "    }\n",
       "</style>\n",
       "<table border=\"1\" class=\"dataframe\">\n",
       "  <thead>\n",
       "    <tr style=\"text-align: right;\">\n",
       "      <th></th>\n",
       "      <th>Gender</th>\n",
       "      <th>Purchase Count</th>\n",
       "      <th>Average Purchase Price</th>\n",
       "      <th>Total Purchase Value</th>\n",
       "      <th>Normalized Totals</th>\n",
       "    </tr>\n",
       "  </thead>\n",
       "  <tbody>\n",
       "    <tr>\n",
       "      <th>0</th>\n",
       "      <td>Male</td>\n",
       "      <td>652</td>\n",
       "      <td>3.017853</td>\n",
       "      <td>1967.64</td>\n",
       "      <td>4.065372</td>\n",
       "    </tr>\n",
       "    <tr>\n",
       "      <th>1</th>\n",
       "      <td>Female</td>\n",
       "      <td>113</td>\n",
       "      <td>3.203009</td>\n",
       "      <td>361.94</td>\n",
       "      <td>4.468395</td>\n",
       "    </tr>\n",
       "    <tr>\n",
       "      <th>2</th>\n",
       "      <td>Other / Non-Disclosed</td>\n",
       "      <td>15</td>\n",
       "      <td>3.346000</td>\n",
       "      <td>50.19</td>\n",
       "      <td>4.562727</td>\n",
       "    </tr>\n",
       "  </tbody>\n",
       "</table>\n",
       "</div>"
      ],
      "text/plain": [
       "                  Gender  Purchase Count  Average Purchase Price  \\\n",
       "0                   Male             652                3.017853   \n",
       "1                 Female             113                3.203009   \n",
       "2  Other / Non-Disclosed              15                3.346000   \n",
       "\n",
       "   Total Purchase Value  Normalized Totals  \n",
       "0               1967.64           4.065372  \n",
       "1                361.94           4.468395  \n",
       "2                 50.19           4.562727  "
      ]
     },
     "execution_count": 10,
     "metadata": {},
     "output_type": "execute_result"
    }
   ],
   "source": [
    "#Purchasing Analysis (Gender)\n",
    "#Male purchase count\n",
    "male_purchases = p_data[p_data[\"Gender\"] == \"Male\"][\"Price\"].count()\n",
    "#Female purchase count\n",
    "female_purchases = p_data[p_data[\"Gender\"] == \"Female\"][\"Price\"].count()\n",
    "#Other purchase count\n",
    "other_purchases = p_data[p_data[\"Gender\"] == \"Other / Non-Disclosed\"][\"Price\"].count()\n",
    "#Male Average Purchase Price\n",
    "ave_male_purchase = p_data[p_data[\"Gender\"] == \"Male\"][\"Price\"].mean()\n",
    "#Female Average Purchase Price\n",
    "ave_female_purchase = p_data[p_data[\"Gender\"] == \"Female\"][\"Price\"].mean()\n",
    "#Other Average Purchase Price\n",
    "ave_other_purchase = p_data[p_data[\"Gender\"] == \"Other / Non-Disclosed\"][\"Price\"].mean()\n",
    "#Male Total Purchase Value\n",
    "total_male_purchase = p_data[p_data[\"Gender\"] == \"Male\"][\"Price\"].sum()\n",
    "#Female Total Purchase Value\n",
    "total_female_purchase = p_data[p_data[\"Gender\"] == \"Female\"][\"Price\"].sum()\n",
    "#Other Total Purchase Value\n",
    "total_other_purchase = p_data[p_data[\"Gender\"] == \"Other / Non-Disclosed\"][\"Price\"].sum()\n",
    "#Male Normalized Totals\n",
    "normal_male_t = total_male_purchase/male_players\n",
    "#Female Normalized Totals\n",
    "normal_female_t = total_female_purchase/female_players\n",
    "#Other Normalized Totals\n",
    "normal_other_t = total_other_purchase/other_players\n",
    "gender_analysis_df = pd.DataFrame({\"Gender\": [\"Male\", \"Female\", \"Other / Non-Disclosed\"], \"Purchase Count\": [male_purchases, female_purchases, other_purchases],\n",
    "                                        \"Average Purchase Price\": [ave_male_purchase, ave_female_purchase, ave_other_purchase], \"Total Purchase Value\": [total_male_purchase, total_female_purchase, total_other_purchase],\n",
    "                                \"Normalized Totals\": [normal_male_t, normal_female_t, normal_other_t]}, columns = \n",
    "                                        [\"Gender\", \"Purchase Count\", \"Average Purchase Price\", \"Total Purchase Value\", \"Normalized Totals\"])\n",
    "gender_analysis_df"
   ]
  },
  {
   "cell_type": "markdown",
   "metadata": {},
   "source": [
    "## Age Demographics"
   ]
  },
  {
   "cell_type": "markdown",
   "metadata": {},
   "source": [
    "* Establish bins for ages\n",
    "\n",
    "\n",
    "* Categorize the existing players using the age bins. Hint: use pd.cut()\n",
    "\n",
    "\n",
    "* Calculate the numbers and percentages by age group\n",
    "\n",
    "\n",
    "* Create a summary data frame to hold the results\n",
    "\n",
    "\n",
    "* Optional: round the percentage column to two decimal points\n",
    "\n",
    "\n",
    "* Display Age Demographics Table\n"
   ]
  },
  {
   "cell_type": "code",
   "execution_count": 11,
   "metadata": {},
   "outputs": [
    {
     "data": {
      "text/html": [
       "<div>\n",
       "<style scoped>\n",
       "    .dataframe tbody tr th:only-of-type {\n",
       "        vertical-align: middle;\n",
       "    }\n",
       "\n",
       "    .dataframe tbody tr th {\n",
       "        vertical-align: top;\n",
       "    }\n",
       "\n",
       "    .dataframe thead th {\n",
       "        text-align: right;\n",
       "    }\n",
       "</style>\n",
       "<table border=\"1\" class=\"dataframe\">\n",
       "  <thead>\n",
       "    <tr style=\"text-align: right;\">\n",
       "      <th></th>\n",
       "      <th>Age</th>\n",
       "      <th>Percentage of Players</th>\n",
       "      <th>Total Count</th>\n",
       "    </tr>\n",
       "  </thead>\n",
       "  <tbody>\n",
       "    <tr>\n",
       "      <th>0</th>\n",
       "      <td>&lt;10</td>\n",
       "      <td>2.951389</td>\n",
       "      <td>17</td>\n",
       "    </tr>\n",
       "    <tr>\n",
       "      <th>1</th>\n",
       "      <td>10-14</td>\n",
       "      <td>3.819444</td>\n",
       "      <td>22</td>\n",
       "    </tr>\n",
       "    <tr>\n",
       "      <th>2</th>\n",
       "      <td>15-19</td>\n",
       "      <td>18.576389</td>\n",
       "      <td>107</td>\n",
       "    </tr>\n",
       "    <tr>\n",
       "      <th>3</th>\n",
       "      <td>20-24</td>\n",
       "      <td>44.791667</td>\n",
       "      <td>258</td>\n",
       "    </tr>\n",
       "    <tr>\n",
       "      <th>4</th>\n",
       "      <td>25-29</td>\n",
       "      <td>13.368056</td>\n",
       "      <td>77</td>\n",
       "    </tr>\n",
       "    <tr>\n",
       "      <th>5</th>\n",
       "      <td>30-34</td>\n",
       "      <td>9.027778</td>\n",
       "      <td>52</td>\n",
       "    </tr>\n",
       "    <tr>\n",
       "      <th>6</th>\n",
       "      <td>35-39</td>\n",
       "      <td>5.381944</td>\n",
       "      <td>31</td>\n",
       "    </tr>\n",
       "    <tr>\n",
       "      <th>7</th>\n",
       "      <td>40-44</td>\n",
       "      <td>1.909722</td>\n",
       "      <td>11</td>\n",
       "    </tr>\n",
       "    <tr>\n",
       "      <th>8</th>\n",
       "      <td>45-49</td>\n",
       "      <td>0.173611</td>\n",
       "      <td>1</td>\n",
       "    </tr>\n",
       "  </tbody>\n",
       "</table>\n",
       "</div>"
      ],
      "text/plain": [
       "     Age  Percentage of Players  Total Count\n",
       "0    <10               2.951389           17\n",
       "1  10-14               3.819444           22\n",
       "2  15-19              18.576389          107\n",
       "3  20-24              44.791667          258\n",
       "4  25-29              13.368056           77\n",
       "5  30-34               9.027778           52\n",
       "6  35-39               5.381944           31\n",
       "7  40-44               1.909722           11\n",
       "8  45-49               0.173611            1"
      ]
     },
     "execution_count": 11,
     "metadata": {},
     "output_type": "execute_result"
    }
   ],
   "source": [
    "#Age Demographics\n",
    "\n",
    "#unique\n",
    "ten_under = p_data[p_data[\"Age\"] <10][\"SN\"].nunique()\n",
    "ten_up = p_data[(p_data[\"Age\"] >=10) & (p_data[\"Age\"] <=14)][\"SN\"].nunique()\n",
    "fifteen_up = p_data[(p_data[\"Age\"] >=15) & (p_data[\"Age\"] <=19)][\"SN\"].nunique()\n",
    "twenty_up = p_data[(p_data[\"Age\"] >=20) & (p_data[\"Age\"] <=24)][\"SN\"].nunique()\n",
    "twentyfive_up = p_data[(p_data[\"Age\"] >=25) & (p_data[\"Age\"] <=29)][\"SN\"].nunique()\n",
    "thirty_up = p_data[(p_data[\"Age\"] >=30) & (p_data[\"Age\"] <=34)][\"SN\"].nunique()\n",
    "thirty_five_up = p_data[(p_data[\"Age\"] >=35) & (p_data[\"Age\"] <=39)][\"SN\"].nunique()\n",
    "forty_up = p_data[(p_data[\"Age\"] >=40) & (p_data[\"Age\"] <=44)][\"SN\"].nunique()\n",
    "fortyfive_up = p_data[(p_data[\"Age\"] >=45) & (p_data[\"Age\"] <=49)][\"SN\"].nunique()\n",
    "\n",
    "#Purchase Count\n",
    "c_ten_under = p_data[p_data[\"Age\"] <10][\"Price\"].count()\n",
    "c_ten_up = p_data[(p_data[\"Age\"] >=10) & (p_data[\"Age\"] <=14)][\"Price\"].count()\n",
    "c_fifteen_up = p_data[(p_data[\"Age\"] >=15) & (p_data[\"Age\"] <=19)][\"Price\"].count()\n",
    "c_twenty_up = p_data[(p_data[\"Age\"] >=20) & (p_data[\"Age\"] <=24)][\"Price\"].count()\n",
    "c_twentyfive_up = p_data[(p_data[\"Age\"] >=25) & (p_data[\"Age\"] <=29)][\"Price\"].count()\n",
    "c_thirty_up = p_data[(p_data[\"Age\"] >=30) & (p_data[\"Age\"] <=34)][\"Price\"].count()\n",
    "c_thirty_five_up = p_data[(p_data[\"Age\"] >=35) & (p_data[\"Age\"] <=39)][\"Price\"].count()\n",
    "c_forty_up = p_data[(p_data[\"Age\"] >=40) & (p_data[\"Age\"] <=44)][\"Price\"].count()\n",
    "c_fortyfive_up = p_data[(p_data[\"Age\"] >=45) & (p_data[\"Age\"] <=49)][\"Price\"].count()\n",
    "#Average Purchase Price\n",
    "a_ten_under = p_data[p_data[\"Age\"] <10][\"Price\"].mean()\n",
    "a_ten_up = p_data[(p_data[\"Age\"] >=10) & (p_data[\"Age\"] <=14)][\"Price\"].mean()\n",
    "a_fifteen_up = p_data[(p_data[\"Age\"] >=15) & (p_data[\"Age\"] <=19)][\"Price\"].mean()\n",
    "a_twenty_up = p_data[(p_data[\"Age\"] >=20) & (p_data[\"Age\"] <=24)][\"Price\"].mean()\n",
    "a_twentyfive_up = p_data[(p_data[\"Age\"] >=25) & (p_data[\"Age\"] <=29)][\"Price\"].mean()\n",
    "a_thirty_up = p_data[(p_data[\"Age\"] >=30) & (p_data[\"Age\"] <=34)][\"Price\"].mean()\n",
    "a_thirty_five_up = p_data[(p_data[\"Age\"] >=35) & (p_data[\"Age\"] <=39)][\"Price\"].mean()\n",
    "a_forty_up = p_data[(p_data[\"Age\"] >=40) & (p_data[\"Age\"] <=44)][\"Price\"].mean()\n",
    "a_fortyfive_up = p_data[(p_data[\"Age\"] >=45) & (p_data[\"Age\"] <=49)][\"Price\"].mean()\n",
    "#Total Purchase Value\n",
    "t_ten_under = p_data[p_data[\"Age\"] <10][\"Price\"].sum()\n",
    "t_ten_up = p_data[(p_data[\"Age\"] >=10) & (p_data[\"Age\"] <=14)][\"Price\"].sum()\n",
    "t_fifteen_up = p_data[(p_data[\"Age\"] >=15) & (p_data[\"Age\"] <=19)][\"Price\"].sum()\n",
    "t_twenty_up = p_data[(p_data[\"Age\"] >=20) & (p_data[\"Age\"] <=24)][\"Price\"].sum()\n",
    "t_twentyfive_up = p_data[(p_data[\"Age\"] >=25) & (p_data[\"Age\"] <=29)][\"Price\"].sum()\n",
    "t_thirty_up = p_data[(p_data[\"Age\"] >=30) & (p_data[\"Age\"] <=34)][\"Price\"].sum()\n",
    "t_thirty_five_up = p_data[(p_data[\"Age\"] >=35) & (p_data[\"Age\"] <=39)][\"Price\"].sum()\n",
    "t_forty_up = p_data[(p_data[\"Age\"] >=40) & (p_data[\"Age\"] <=44)][\"Price\"].sum()\n",
    "t_fortyfive_up = p_data[(p_data[\"Age\"] >=45) & (p_data[\"Age\"] <=49)][\"Price\"].sum()\n",
    "#Normalized Totals\n",
    "n_ten_under = t_ten_under/ten_under\n",
    "n_ten_up = t_ten_up/ten_up\n",
    "n_fifteen_up = t_fifteen_up/fifteen_up\n",
    "n_twenty_up = t_twenty_up/twenty_up\n",
    "n_twentyfive_up = t_twentyfive_up/twentyfive_up\n",
    "n_thirty_up = t_thirty_up/thirty_up\n",
    "n_thirty_five_up = t_thirty_five_up/thirty_five_up\n",
    "n_forty_up = t_forty_up/forty_up\n",
    "n_fortyfive_up = t_fortyfive_up/fortyfive_up\n",
    "\n",
    "a_demographic_df = pd.DataFrame({\"Age\": [\"<10\", \"10-14\", \"15-19\", \"20-24\", \"25-29\", \"30-34\", \"35-39\", \"40-44\", \"45-49\"],\n",
    "\"Percentage of Players\": [(ten_under/players)*100, (ten_up/players)*100, (fifteen_up/players)*100, (twenty_up/players)*100, (twentyfive_up/players)*100, (thirty_up/players)*100, (thirty_five_up/players)*100, (forty_up/players)*100, (fortyfive_up/players)*100],\n",
    "                        \"Total Count\": [ten_under, ten_up, fifteen_up, twenty_up, twentyfive_up, thirty_up, thirty_five_up, forty_up, fortyfive_up]\n",
    "                       })\n",
    "a_demographic_df"
   ]
  },
  {
   "cell_type": "markdown",
   "metadata": {},
   "source": [
    "## Purchasing Analysis (Age)"
   ]
  },
  {
   "cell_type": "markdown",
   "metadata": {},
   "source": [
    "* Bin the purchase_data data frame by age\n",
    "\n",
    "\n",
    "* Run basic calculations to obtain purchase count, avg. purchase price, avg. purchase total per person etc. in the table below\n",
    "\n",
    "\n",
    "* Create a summary data frame to hold the results\n",
    "\n",
    "\n",
    "* Optional: give the displayed data cleaner formatting\n",
    "\n",
    "\n",
    "* Display the summary data frame"
   ]
  },
  {
   "cell_type": "code",
   "execution_count": 12,
   "metadata": {},
   "outputs": [
    {
     "data": {
      "text/html": [
       "<div>\n",
       "<style scoped>\n",
       "    .dataframe tbody tr th:only-of-type {\n",
       "        vertical-align: middle;\n",
       "    }\n",
       "\n",
       "    .dataframe tbody tr th {\n",
       "        vertical-align: top;\n",
       "    }\n",
       "\n",
       "    .dataframe thead th {\n",
       "        text-align: right;\n",
       "    }\n",
       "</style>\n",
       "<table border=\"1\" class=\"dataframe\">\n",
       "  <thead>\n",
       "    <tr style=\"text-align: right;\">\n",
       "      <th></th>\n",
       "      <th>Age</th>\n",
       "      <th>Purchase Count</th>\n",
       "      <th>Average Purchase Price</th>\n",
       "      <th>Total Purchase Value</th>\n",
       "      <th>Normalized Totals</th>\n",
       "    </tr>\n",
       "  </thead>\n",
       "  <tbody>\n",
       "    <tr>\n",
       "      <th>0</th>\n",
       "      <td>&lt;10</td>\n",
       "      <td>23</td>\n",
       "      <td>3.353478</td>\n",
       "      <td>77.13</td>\n",
       "      <td>4.537059</td>\n",
       "    </tr>\n",
       "    <tr>\n",
       "      <th>1</th>\n",
       "      <td>10-14</td>\n",
       "      <td>28</td>\n",
       "      <td>2.956429</td>\n",
       "      <td>82.78</td>\n",
       "      <td>3.762727</td>\n",
       "    </tr>\n",
       "    <tr>\n",
       "      <th>2</th>\n",
       "      <td>15-19</td>\n",
       "      <td>136</td>\n",
       "      <td>3.035956</td>\n",
       "      <td>412.89</td>\n",
       "      <td>3.858785</td>\n",
       "    </tr>\n",
       "    <tr>\n",
       "      <th>3</th>\n",
       "      <td>20-24</td>\n",
       "      <td>365</td>\n",
       "      <td>3.052219</td>\n",
       "      <td>1114.06</td>\n",
       "      <td>4.318062</td>\n",
       "    </tr>\n",
       "    <tr>\n",
       "      <th>4</th>\n",
       "      <td>25-29</td>\n",
       "      <td>101</td>\n",
       "      <td>2.900990</td>\n",
       "      <td>293.00</td>\n",
       "      <td>3.805195</td>\n",
       "    </tr>\n",
       "    <tr>\n",
       "      <th>5</th>\n",
       "      <td>30-34</td>\n",
       "      <td>73</td>\n",
       "      <td>2.931507</td>\n",
       "      <td>214.00</td>\n",
       "      <td>4.115385</td>\n",
       "    </tr>\n",
       "    <tr>\n",
       "      <th>6</th>\n",
       "      <td>35-39</td>\n",
       "      <td>41</td>\n",
       "      <td>3.601707</td>\n",
       "      <td>147.67</td>\n",
       "      <td>4.763548</td>\n",
       "    </tr>\n",
       "    <tr>\n",
       "      <th>7</th>\n",
       "      <td>40-44</td>\n",
       "      <td>12</td>\n",
       "      <td>3.045000</td>\n",
       "      <td>36.54</td>\n",
       "      <td>3.321818</td>\n",
       "    </tr>\n",
       "    <tr>\n",
       "      <th>8</th>\n",
       "      <td>45-49</td>\n",
       "      <td>1</td>\n",
       "      <td>1.700000</td>\n",
       "      <td>1.70</td>\n",
       "      <td>1.700000</td>\n",
       "    </tr>\n",
       "  </tbody>\n",
       "</table>\n",
       "</div>"
      ],
      "text/plain": [
       "     Age  Purchase Count  Average Purchase Price  Total Purchase Value  \\\n",
       "0    <10              23                3.353478                 77.13   \n",
       "1  10-14              28                2.956429                 82.78   \n",
       "2  15-19             136                3.035956                412.89   \n",
       "3  20-24             365                3.052219               1114.06   \n",
       "4  25-29             101                2.900990                293.00   \n",
       "5  30-34              73                2.931507                214.00   \n",
       "6  35-39              41                3.601707                147.67   \n",
       "7  40-44              12                3.045000                 36.54   \n",
       "8  45-49               1                1.700000                  1.70   \n",
       "\n",
       "   Normalized Totals  \n",
       "0           4.537059  \n",
       "1           3.762727  \n",
       "2           3.858785  \n",
       "3           4.318062  \n",
       "4           3.805195  \n",
       "5           4.115385  \n",
       "6           4.763548  \n",
       "7           3.321818  \n",
       "8           1.700000  "
      ]
     },
     "execution_count": 12,
     "metadata": {},
     "output_type": "execute_result"
    }
   ],
   "source": [
    "#Purchasing analysis (Age)\n",
    "demographic_age_df = pd.DataFrame({\"Age\": [\"<10\", \"10-14\", \"15-19\", \"20-24\", \"25-29\", \"30-34\", \"35-39\", \"40-44\", \"45-49\"],\n",
    "\"Purchase Count\": [c_ten_under, c_ten_up, c_fifteen_up, c_twenty_up, c_twentyfive_up, c_thirty_up, c_thirty_five_up, c_forty_up, c_fortyfive_up],\n",
    "\"Average Purchase Price\": [a_ten_under, a_ten_up, a_fifteen_up, a_twenty_up, a_twentyfive_up, a_thirty_up, a_thirty_five_up, a_forty_up, a_fortyfive_up],\n",
    "\"Total Purchase Value\": [t_ten_under, t_ten_up, t_fifteen_up, t_twenty_up, t_twentyfive_up, t_thirty_up, t_thirty_five_up, t_forty_up, t_fortyfive_up],\n",
    "\"Normalized Totals\": [n_ten_under, n_ten_up, n_fifteen_up, n_twenty_up, n_twentyfive_up, n_thirty_up, n_thirty_five_up, n_forty_up, n_fortyfive_up]                                   \n",
    "                       },columns = \n",
    "                            [\"Age\", \"Purchase Count\", \"Average Purchase Price\", \"Total Purchase Value\", \"Normalized Totals\"])\n",
    "demographic_age_df"
   ]
  },
  {
   "cell_type": "markdown",
   "metadata": {},
   "source": [
    "## Top Spenders"
   ]
  },
  {
   "cell_type": "markdown",
   "metadata": {},
   "source": [
    "* Run basic calculations to obtain the results in the table below\n",
    "\n",
    "\n",
    "* Create a summary data frame to hold the results\n",
    "\n",
    "\n",
    "* Sort the total purchase value column in descending order\n",
    "\n",
    "\n",
    "* Optional: give the displayed data cleaner formatting\n",
    "\n",
    "\n",
    "* Display a preview of the summary data frame\n",
    "\n"
   ]
  },
  {
   "cell_type": "code",
   "execution_count": 13,
   "metadata": {},
   "outputs": [
    {
     "data": {
      "text/html": [
       "<div>\n",
       "<style scoped>\n",
       "    .dataframe tbody tr th:only-of-type {\n",
       "        vertical-align: middle;\n",
       "    }\n",
       "\n",
       "    .dataframe tbody tr th {\n",
       "        vertical-align: top;\n",
       "    }\n",
       "\n",
       "    .dataframe thead th {\n",
       "        text-align: right;\n",
       "    }\n",
       "</style>\n",
       "<table border=\"1\" class=\"dataframe\">\n",
       "  <thead>\n",
       "    <tr style=\"text-align: right;\">\n",
       "      <th></th>\n",
       "      <th>Total Purchase Value</th>\n",
       "      <th>Purchase Count</th>\n",
       "      <th>Average Purchase Price</th>\n",
       "    </tr>\n",
       "    <tr>\n",
       "      <th>SN</th>\n",
       "      <th></th>\n",
       "      <th></th>\n",
       "      <th></th>\n",
       "    </tr>\n",
       "  </thead>\n",
       "  <tbody>\n",
       "    <tr>\n",
       "      <th>Lisosia93</th>\n",
       "      <td>18.96</td>\n",
       "      <td>5</td>\n",
       "      <td>3.792000</td>\n",
       "    </tr>\n",
       "    <tr>\n",
       "      <th>Idastidru52</th>\n",
       "      <td>15.45</td>\n",
       "      <td>4</td>\n",
       "      <td>3.862500</td>\n",
       "    </tr>\n",
       "    <tr>\n",
       "      <th>Chamjask73</th>\n",
       "      <td>13.83</td>\n",
       "      <td>3</td>\n",
       "      <td>4.610000</td>\n",
       "    </tr>\n",
       "    <tr>\n",
       "      <th>Iral74</th>\n",
       "      <td>13.62</td>\n",
       "      <td>4</td>\n",
       "      <td>3.405000</td>\n",
       "    </tr>\n",
       "    <tr>\n",
       "      <th>Iskadarya95</th>\n",
       "      <td>13.10</td>\n",
       "      <td>3</td>\n",
       "      <td>4.366667</td>\n",
       "    </tr>\n",
       "  </tbody>\n",
       "</table>\n",
       "</div>"
      ],
      "text/plain": [
       "             Total Purchase Value  Purchase Count  Average Purchase Price\n",
       "SN                                                                       \n",
       "Lisosia93                   18.96               5                3.792000\n",
       "Idastidru52                 15.45               4                3.862500\n",
       "Chamjask73                  13.83               3                4.610000\n",
       "Iral74                      13.62               4                3.405000\n",
       "Iskadarya95                 13.10               3                4.366667"
      ]
     },
     "execution_count": 13,
     "metadata": {},
     "output_type": "execute_result"
    }
   ],
   "source": [
    "#Top Spenders\n",
    "total_Spent = pd.DataFrame(p_data.groupby('SN')['Price'].sum())\n",
    "purchases_made = pd.DataFrame(p_data.groupby('SN')['Price'].count())\n",
    "ave_price_spent = pd.DataFrame(p_data.groupby('SN')['Price'].mean())\n",
    "top = pd.merge(total_Spent, purchases_made, left_index = True, right_index = True).merge(ave_price_spent, left_index=True, right_index=True)\n",
    "top.rename(columns = {'Price_x': 'Total Purchase Value', 'Price_y':'Purchase Count', 'Price':'Average Purchase Price'}, inplace = True)\n",
    "top.sort_values('Total Purchase Value', ascending = False, inplace=True)\n",
    "top.head(5)"
   ]
  },
  {
   "cell_type": "markdown",
   "metadata": {},
   "source": [
    "## Most Popular Items"
   ]
  },
  {
   "cell_type": "markdown",
   "metadata": {},
   "source": [
    "* Retrieve the Item ID, Item Name, and Item Price columns\n",
    "\n",
    "\n",
    "* Group by Item ID and Item Name. Perform calculations to obtain purchase count, item price, and total purchase value\n",
    "\n",
    "\n",
    "* Create a summary data frame to hold the results\n",
    "\n",
    "\n",
    "* Sort the purchase count column in descending order\n",
    "\n",
    "\n",
    "* Optional: give the displayed data cleaner formatting\n",
    "\n",
    "\n",
    "* Display a preview of the summary data frame\n",
    "\n"
   ]
  },
  {
   "cell_type": "code",
   "execution_count": null,
   "metadata": {},
   "outputs": [],
   "source": [
    "#Most Popular Items\n",
    "popular = pd.DataFrame(p_data.groupby('Item ID')['Item ID'].count())\n",
    "popular.sort_values('Item ID', ascending = False, inplace = True)\n",
    "popular_total = pd.DataFrame(p_data.groupby('Item ID')['Price'].sum())\n",
    "pop_items = pd.merge(popular, popular_total, left_index = True, right_index = True)\n",
    "drop_items = p_data.drop_duplicates(['Item ID'], keep = 'last')\n",
    "top_item = pd.merge(pop_items, no_dup_items, left_index = True, right_on = 'Item ID')\n",
    "top_item = top_item[['Item ID', 'Item Name', 'Item ID_x', 'Price_y', 'Price_x']]\n",
    "top_item.rename(columns =  {'Item ID_x': 'Purchase Count', 'Price_y': 'Item Price', 'Price_x': 'Total Purchase Value'}, inplace=True)\n",
    "top_item.head(5)"
   ]
  },
  {
   "cell_type": "markdown",
   "metadata": {},
   "source": [
    "## Most Profitable Items"
   ]
  },
  {
   "cell_type": "markdown",
   "metadata": {},
   "source": [
    "* Sort the above table by total purchase value in descending order\n",
    "\n",
    "\n",
    "* Optional: give the displayed data cleaner formatting\n",
    "\n",
    "\n",
    "* Display a preview of the data frame\n",
    "\n"
   ]
  },
  {
   "cell_type": "code",
   "execution_count": null,
   "metadata": {
    "scrolled": true
   },
   "outputs": [],
   "source": [
    "#Most Profitable\n",
    "most_profitable = top_item.sort_values('Total Purchase Value', ascending=False)\n",
    "most_profitable.head(5)"
   ]
  }
 ],
 "metadata": {
  "anaconda-cloud": {},
  "kernel_info": {
   "name": "python3"
  },
  "kernelspec": {
   "display_name": "Python 3",
   "language": "python",
   "name": "python3"
  },
  "language_info": {
   "codemirror_mode": {
    "name": "ipython",
    "version": 3
   },
   "file_extension": ".py",
   "mimetype": "text/x-python",
   "name": "python",
   "nbconvert_exporter": "python",
   "pygments_lexer": "ipython3",
   "version": "3.6.6"
  },
  "nteract": {
   "version": "0.2.0"
  }
 },
 "nbformat": 4,
 "nbformat_minor": 2
}
